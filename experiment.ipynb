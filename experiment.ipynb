{
 "cells": [
  {
   "cell_type": "code",
   "execution_count": 1,
   "metadata": {},
   "outputs": [
    {
     "name": "stdout",
     "output_type": "stream",
     "text": [
      "pygame 2.1.2 (SDL 2.0.16, Python 3.10.2)\n",
      "Hello from the pygame community. https://www.pygame.org/contribute.html\n"
     ]
    }
   ],
   "source": [
    "import numpy as np\n",
    "jobs = np.array(\n",
    "    [[[[True,  True, False],\n",
    "        [True, False,  True],\n",
    "        [True, False,  True],\n",
    "        [False, False,  True],\n",
    "        [False,  True,  True]],\n",
    "\n",
    "      [[False, False,  True],\n",
    "        [True,  True,  True],\n",
    "        [False,  True,  True],\n",
    "        [False, False, False],\n",
    "        [False,  True, False]]],\n",
    "\n",
    "\n",
    "      [[[False, False,  True],\n",
    "        [False,  True, False],\n",
    "        [True,  True,  True],\n",
    "        [False, False,  True],\n",
    "        [False, False, False]],\n",
    "\n",
    "      [[False, False,  True],\n",
    "        [True, False, False],\n",
    "        [True, False,  True],\n",
    "        [True,  True, False],\n",
    "        [True, False, False]]],\n",
    "\n",
    "\n",
    "      [[[True, False, False],\n",
    "        [False, False,  True],\n",
    "        [True, False,  True],\n",
    "        [True,  True, False],\n",
    "        [False, False,  True]],\n",
    "\n",
    "      [[True,  True,  True],\n",
    "        [True, False,  True],\n",
    "        [True,  True,  True],\n",
    "        [False, False,  True],\n",
    "        [False, False, False]]],\n",
    "\n",
    "\n",
    "      [[[False, False,  True],\n",
    "        [True,  True, False],\n",
    "        [False,  True, False],\n",
    "        [False,  True,  True],\n",
    "        [True, False, False]],\n",
    "\n",
    "      [[False,  True, False],\n",
    "        [False,  True, False],\n",
    "        [True,  True, False],\n",
    "        [False, False, False],\n",
    "        [True, False,  True]]],\n",
    "\n",
    "\n",
    "      [[[True, False,  True],\n",
    "        [False,  True,  True],\n",
    "        [False,  True,  True],\n",
    "        [True, False, False],\n",
    "        [True, False,  True]],\n",
    "\n",
    "      [[True,  True, False],\n",
    "        [False,  True,  True],\n",
    "        [False,  True,  True],\n",
    "        [True, False,  True],\n",
    "        [True,  True,  True]]]]\n",
    ")\n",
    "from res_mgmt.envs.res_mgmt_env import ResMgmtEnv"
   ]
  },
  {
   "cell_type": "code",
   "execution_count": 2,
   "metadata": {},
   "outputs": [
    {
     "name": "stdout",
     "output_type": "stream",
     "text": [
      "pygame 2.1.2 (SDL 2.0.16, Python 3.10.2)\n",
      "Hello from the pygame community. https://www.pygame.org/contribute.html\n",
      "(121,)\n",
      "Action:\n",
      " 0\n",
      "Step:\n",
      " [1000 1000 1000 1000 1000 1000 1000 1000 1000 1000 1000 1000 1000 1000\n",
      " 1000 1000 1000 1000 1000 1000 1000 1000 1000 1000 1000 1000 1000 1000\n",
      " 1000 1000    1    1    0    1    0    1    1    0    1    0    0    1\n",
      "    0    1    1    0    0    1    1    1    1    0    1    1    0    0\n",
      "    0    0    1    0    0    0    1    0    1    0    1    1    1    0\n",
      "    0    1    0    0    0    0    0    1    1    0    0    1    0    1\n",
      "    1    1    0    1    0    0    1    0    0    0    0    1    1    0\n",
      "    1    1    1    0    0    0    1    1    1    1    1    0    1    1\n",
      "    1    1    0    0    1    0    0    0    2] -1.0 False {}\n"
     ]
    }
   ],
   "source": [
    "\n",
    "env = ResMgmtEnv(\n",
    "    num_resource_type=2,\n",
    "    resource_size=3,\n",
    "    time_size=5,\n",
    "    num_job_slot=3,\n",
    "    max_num_job=10**3,\n",
    "    jobs=np.copy(jobs),\n",
    ")\n",
    "obs = env.reset()\n",
    "print(obs.shape)\n",
    "\n",
    "action = env.action_space.sample()\n",
    "print(\"Action:\\n\", action)\n",
    "obs, reward, done, info = env.step(action)\n",
    "print(\"Step:\\n\", obs, reward, done, info)"
   ]
  },
  {
   "cell_type": "code",
   "execution_count": null,
   "metadata": {},
   "outputs": [],
   "source": [
    "from stable_baselines3.common.env_checker import check_env\n",
    "env = ResMgmtEnv(\n",
    "    num_resource_type=2,\n",
    "    resource_size=3,\n",
    "    time_size=5,\n",
    "    num_job_slot=3,\n",
    "    max_num_job=10**3,\n",
    "    jobs=np.copy(jobs),\n",
    ")\n",
    "check_env(env, warn=True)"
   ]
  },
  {
   "cell_type": "code",
   "execution_count": null,
   "metadata": {},
   "outputs": [],
   "source": [
    "from stable_baselines3 import A2C\n",
    "\n",
    "env = ResMgmtEnv(\n",
    "    num_resource_type=2,\n",
    "    resource_size=3,\n",
    "    time_size=5,\n",
    "    num_job_slot=3,\n",
    "    max_num_job=10**3,\n",
    "    jobs=np.copy(jobs),\n",
    ")\n",
    "\n",
    "model = A2C('MlpPolicy', env, verbose=1)\n",
    "model.learn(total_timesteps=10)"
   ]
  },
  {
   "cell_type": "code",
   "execution_count": null,
   "metadata": {},
   "outputs": [],
   "source": [
    "from stable_baselines3.common.evaluation import evaluate_policy\n",
    "\n",
    "env = ResMgmtEnv(\n",
    "    num_resource_type=2,\n",
    "    resource_size=3,\n",
    "    time_size=5,\n",
    "    num_job_slot=3,\n",
    "    max_num_job=10**3,\n",
    "    jobs=np.copy(jobs),\n",
    ")\n",
    "model = A2C('MlpPolicy', env, verbose=1)\n",
    "\n",
    "evaluate_policy(model, env, n_eval_episodes=2)\n"
   ]
  },
  {
   "cell_type": "code",
   "execution_count": 2,
   "metadata": {},
   "outputs": [
    {
     "name": "stdout",
     "output_type": "stream",
     "text": [
      "1 2 [[2 2 0 2 3]\n",
      " [2 2 1 1 2]]\n",
      "2 1 [[2 0 2 3 3]\n",
      " [2 1 1 2 3]]\n",
      "3 2 [[0 2 3 3 3]\n",
      " [1 1 2 3 3]]\n",
      "4 1 [[2 3 3 3 3]\n",
      " [1 2 3 3 3]]\n",
      "5 1 [[3 3 3 3 3]\n",
      " [2 3 3 3 3]]\n",
      "6 1 [[1 1 1 2 1]\n",
      " [1 0 1 3 2]]\n",
      "7 3 [[1 1 2 1 3]\n",
      " [0 1 3 2 3]]\n",
      "8 0 [[1 2 1 3 3]\n",
      " [1 3 2 3 3]]\n",
      "9 1 [[2 1 3 3 3]\n",
      " [3 2 3 3 3]]\n",
      "10 1 [[1 3 3 3 3]\n",
      " [2 3 3 3 3]]\n",
      "11 3 [[3 3 3 3 3]\n",
      " [3 3 3 3 3]]\n",
      "Episode finished after 12 timesteps\n"
     ]
    }
   ],
   "source": [
    "import pygame\n",
    "env = ResMgmtEnv(\n",
    "    num_resource_type=2,\n",
    "    resource_size=3,\n",
    "    time_size=5,\n",
    "    num_job_slot=3,\n",
    "    max_num_job=10**3,\n",
    "    jobs=np.copy(jobs),\n",
    ")\n",
    "\n",
    "observation = env.reset()\n",
    "t = 0\n",
    "while True:\n",
    "    t += 1\n",
    "    # print(observation)\n",
    "    action = env.action_space.sample()\n",
    "    observation, reward, done, info = env.step(action)\n",
    "    print(t, action, env.res.empty_cells_cluster)\n",
    "    env.my_render(f\"render/{t}.png\")\n",
    "    if done or t > 10:\n",
    "        print(\"Episode finished after {} timesteps\".format(t+1))\n",
    "        break\n",
    "env.close()"
   ]
  },
  {
   "cell_type": "code",
   "execution_count": null,
   "metadata": {},
   "outputs": [],
   "source": [
    "from IPython.display import Image\n",
    "Image(filename=\"output.png\") "
   ]
  }
 ],
 "metadata": {
  "interpreter": {
   "hash": "01aaff945cac5d88624c70989d7ef7df0a174617aa94a0c3a7bd3351af0aef77"
  },
  "kernelspec": {
   "display_name": "Python 3.10.0 ('resmgmt')",
   "language": "python",
   "name": "python3"
  },
  "language_info": {
   "codemirror_mode": {
    "name": "ipython",
    "version": 3
   },
   "file_extension": ".py",
   "mimetype": "text/x-python",
   "name": "python",
   "nbconvert_exporter": "python",
   "pygments_lexer": "ipython3",
   "version": "3.10.2"
  },
  "orig_nbformat": 4
 },
 "nbformat": 4,
 "nbformat_minor": 2
}
