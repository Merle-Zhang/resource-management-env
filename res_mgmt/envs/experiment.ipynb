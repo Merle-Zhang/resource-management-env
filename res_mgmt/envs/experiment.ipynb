{
 "cells": [
  {
   "cell_type": "code",
   "execution_count": 44,
   "metadata": {},
   "outputs": [
    {
     "name": "stdout",
     "output_type": "stream",
     "text": [
      "[2 0 2]\n"
     ]
    },
    {
     "data": {
      "text/plain": [
       "array([[[ 6,  7,  8],\n",
       "        [ 0,  0,  0],\n",
       "        [ 0,  0,  0]],\n",
       "\n",
       "       [[ 6,  7,  8],\n",
       "        [ 0,  0,  0],\n",
       "        [ 0,  0,  0]],\n",
       "\n",
       "       [[ 6,  7, -1],\n",
       "        [ 0,  0,  0],\n",
       "        [ 0,  0,  0]]])"
      ]
     },
     "execution_count": 44,
     "metadata": {},
     "output_type": "execute_result"
    }
   ],
   "source": [
    "import numpy as np\n",
    "x = np.arange(9).reshape((3,3))\n",
    "y = np.copy(x)\n",
    "z = np.copy(x)\n",
    "\n",
    "state = np.array([x, y, z])\n",
    "state[0, 1, 2]\n",
    "\n",
    "# state[:,1:,:]\n",
    "np.concatenate((state[:,1:,:], np.zeros((3,1,3), dtype=int)), out=state, axis=1)\n",
    "np.concatenate((state[:,1:,:], np.zeros((3,1,3), dtype=int)), out=state, axis=1)\n",
    "indice = np.max(np.where(state != 0), axis=1)\n",
    "print(indice)\n",
    "state[tuple(indice)] = -1\n",
    "state"
   ]
  },
  {
   "cell_type": "code",
   "execution_count": 49,
   "metadata": {},
   "outputs": [
    {
     "name": "stdout",
     "output_type": "stream",
     "text": [
      "duration 0\n"
     ]
    },
    {
     "data": {
      "text/plain": [
       "array([0, 6, 7, 8])"
      ]
     },
     "execution_count": 49,
     "metadata": {},
     "output_type": "execute_result"
    }
   ],
   "source": [
    "import numpy as np\n",
    "x = np.arange(9).reshape((3,3))\n",
    "y = np.copy(x)\n",
    "z = np.copy(x)\n",
    "\n",
    "state = np.array([x, y, z])\n",
    "state = np.array([[[6, 7, 8],\n",
    "        [0, 0, 0],\n",
    "        [0, 0, 0],\n",
    "        [0, 0, 0]],\n",
    "\n",
    "       [[6, 7, 8],\n",
    "        [0, 0, 0],\n",
    "        [0, 0, 0],\n",
    "        [0, 0, 0]],\n",
    "\n",
    "       [[6, 7, 8],\n",
    "        [0, 0, 0],\n",
    "        [0, 0, 0],\n",
    "        [0, 0, 0]]])\n",
    "\n",
    "print(\"duration\",np.max(np.where(state != 0), axis=1)[1])\n"
   ]
  },
  {
   "cell_type": "code",
   "execution_count": 4,
   "metadata": {},
   "outputs": [],
   "source": [
    "import numpy as np\n",
    "np.testing.assert_allclose(np.full((1,3,42), -2, dtype=int), -2)"
   ]
  },
  {
   "cell_type": "code",
   "execution_count": 7,
   "metadata": {},
   "outputs": [
    {
     "data": {
      "text/plain": [
       "{3: 8, 4: 6, 5: 7, 6: 2, 7: 1, 8: 2}"
      ]
     },
     "execution_count": 7,
     "metadata": {},
     "output_type": "execute_result"
    }
   ],
   "source": [
    "from random import randrange\n",
    "mydict = {}\n",
    "for i in range(3, 9):\n",
    "    mydict[i] = randrange(1, 10)\n",
    "mydict"
   ]
  },
  {
   "cell_type": "code",
   "execution_count": 18,
   "metadata": {},
   "outputs": [
    {
     "data": {
      "text/plain": [
       "array([[[[ True,  True, False],\n",
       "         [ True, False,  True],\n",
       "         [ True, False,  True],\n",
       "         [False, False,  True],\n",
       "         [False,  True,  True]],\n",
       "\n",
       "        [[False, False,  True],\n",
       "         [ True,  True,  True],\n",
       "         [False,  True,  True],\n",
       "         [False, False, False],\n",
       "         [False,  True, False]]],\n",
       "\n",
       "\n",
       "       [[[False, False,  True],\n",
       "         [False,  True, False],\n",
       "         [ True,  True,  True],\n",
       "         [False, False,  True],\n",
       "         [False, False, False]],\n",
       "\n",
       "        [[False, False,  True],\n",
       "         [ True, False, False],\n",
       "         [ True, False,  True],\n",
       "         [ True,  True, False],\n",
       "         [ True, False, False]]],\n",
       "\n",
       "\n",
       "       [[[ True, False, False],\n",
       "         [False, False,  True],\n",
       "         [ True, False,  True],\n",
       "         [ True,  True, False],\n",
       "         [False, False,  True]],\n",
       "\n",
       "        [[ True,  True,  True],\n",
       "         [ True, False,  True],\n",
       "         [ True,  True,  True],\n",
       "         [False, False,  True],\n",
       "         [False, False, False]]],\n",
       "\n",
       "\n",
       "       [[[False, False,  True],\n",
       "         [ True,  True, False],\n",
       "         [False,  True, False],\n",
       "         [False,  True,  True],\n",
       "         [ True, False, False]],\n",
       "\n",
       "        [[False,  True, False],\n",
       "         [False,  True, False],\n",
       "         [ True,  True, False],\n",
       "         [False, False, False],\n",
       "         [ True, False,  True]]],\n",
       "\n",
       "\n",
       "       [[[ True, False,  True],\n",
       "         [False,  True,  True],\n",
       "         [False,  True,  True],\n",
       "         [ True, False, False],\n",
       "         [ True, False,  True]],\n",
       "\n",
       "        [[ True,  True, False],\n",
       "         [False,  True,  True],\n",
       "         [False,  True,  True],\n",
       "         [ True, False,  True],\n",
       "         [ True,  True,  True]]]])"
      ]
     },
     "execution_count": 18,
     "metadata": {},
     "output_type": "execute_result"
    }
   ],
   "source": [
    "import numpy as np\n",
    "\n",
    "num_resource_type = 2\n",
    "num_job_slot = 5\n",
    "# num_job_slot = 3\n",
    "time_size = 5\n",
    "resource_size = 3\n",
    "shape = (\n",
    "    num_job_slot,\n",
    "    num_resource_type,\n",
    "    time_size,\n",
    "    resource_size,\n",
    ")\n",
    "sample_arr = [True, False]\n",
    "bool_arr = np.random.choice(sample_arr, size=shape)\n",
    "bool_arr"
   ]
  },
  {
   "cell_type": "code",
   "execution_count": 11,
   "metadata": {},
   "outputs": [
    {
     "data": {
      "text/plain": [
       "array([1, 2, 3, 4, 5, 6])"
      ]
     },
     "execution_count": 11,
     "metadata": {},
     "output_type": "execute_result"
    }
   ],
   "source": [
    "x = np.array([1,2,3])\n",
    "y = np.array([4,5,6])\n",
    "\n",
    "np.concatenate((x, y))\n"
   ]
  },
  {
   "cell_type": "code",
   "execution_count": 2,
   "metadata": {},
   "outputs": [
    {
     "ename": "ModuleNotFoundError",
     "evalue": "No module named 'res_mgmt'",
     "output_type": "error",
     "traceback": [
      "\u001b[0;31m---------------------------------------------------------------------------\u001b[0m",
      "\u001b[0;31mModuleNotFoundError\u001b[0m                       Traceback (most recent call last)",
      "\u001b[1;32m/user/home/nt19075/mydev/resource-management-env/res_mgmt/envs/experiment.ipynb Cell 7'\u001b[0m in \u001b[0;36m<cell line: 1>\u001b[0;34m()\u001b[0m\n\u001b[0;32m----> <a href='vscode-notebook-cell://ssh-remote%2Bbcp4/user/home/nt19075/mydev/resource-management-env/res_mgmt/envs/experiment.ipynb#ch0000006vscode-remote?line=0'>1</a>\u001b[0m \u001b[39mfrom\u001b[39;00m \u001b[39mres_mgmt\u001b[39;00m\u001b[39m.\u001b[39;00m\u001b[39menvs\u001b[39;00m\u001b[39m.\u001b[39;00m\u001b[39mres_mgmt_env\u001b[39;00m \u001b[39mimport\u001b[39;00m ResMgmtEnv\n\u001b[1;32m      <a href='vscode-notebook-cell://ssh-remote%2Bbcp4/user/home/nt19075/mydev/resource-management-env/res_mgmt/envs/experiment.ipynb#ch0000006vscode-remote?line=2'>3</a>\u001b[0m env \u001b[39m=\u001b[39m ResMgmtEnv()\n\u001b[1;32m      <a href='vscode-notebook-cell://ssh-remote%2Bbcp4/user/home/nt19075/mydev/resource-management-env/res_mgmt/envs/experiment.ipynb#ch0000006vscode-remote?line=3'>4</a>\u001b[0m obs \u001b[39m=\u001b[39m env\u001b[39m.\u001b[39mreset()\n",
      "\u001b[0;31mModuleNotFoundError\u001b[0m: No module named 'res_mgmt'"
     ]
    }
   ],
   "source": [
    "from res_mgmt.envs.res_mgmt_env import ResMgmtEnv\n",
    "\n",
    "env = ResMgmtEnv()\n",
    "obs = env.reset()\n",
    "\n",
    "action = env.action_space.sample()\n",
    "print(action)\n",
    "obs, reward, done, info = env.step(action)\n",
    "print(obs, reward, done, info)"
   ]
  }
 ],
 "metadata": {
  "interpreter": {
   "hash": "01aaff945cac5d88624c70989d7ef7df0a174617aa94a0c3a7bd3351af0aef77"
  },
  "kernelspec": {
   "display_name": "Python 3.10.0 ('resmgmt')",
   "language": "python",
   "name": "python3"
  },
  "language_info": {
   "codemirror_mode": {
    "name": "ipython",
    "version": 3
   },
   "file_extension": ".py",
   "mimetype": "text/x-python",
   "name": "python",
   "nbconvert_exporter": "python",
   "pygments_lexer": "ipython3",
   "version": "3.10.2"
  },
  "orig_nbformat": 4
 },
 "nbformat": 4,
 "nbformat_minor": 2
}
